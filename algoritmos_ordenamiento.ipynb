{
  "nbformat": 4,
  "nbformat_minor": 0,
  "metadata": {
    "colab": {
      "provenance": [],
      "authorship_tag": "ABX9TyPEpSHjCEmFoUe+2+uX8ccr",
      "include_colab_link": true
    },
    "kernelspec": {
      "name": "python3",
      "display_name": "Python 3"
    },
    "language_info": {
      "name": "python"
    }
  },
  "cells": [
    {
      "cell_type": "markdown",
      "metadata": {
        "id": "view-in-github",
        "colab_type": "text"
      },
      "source": [
        "<a href=\"https://colab.research.google.com/github/GomMelissa/PrograAvanzada-Meli/blob/main/algoritmos_ordenamiento.ipynb\" target=\"_parent\"><img src=\"https://colab.research.google.com/assets/colab-badge.svg\" alt=\"Open In Colab\"/></a>"
      ]
    },
    {
      "cell_type": "code",
      "execution_count": null,
      "metadata": {
        "id": "bjtoSgMbE4Xj"
      },
      "outputs": [],
      "source": []
    },
    {
      "cell_type": "markdown",
      "source": [
        "#Algoritmos de ordenamiento Burbuja y Quicksort.\n",
        "##Por: Melissa Gómez Rentería.\n",
        "###Fecha de entrega: 12 de febrero de 2025.\n",
        "###Objetivo\n",
        "- Utilizar Jupyter Notebook para implementar y evaluar dos métodos de ordenamiento (Burbuja y Quicksort) en Python, analizando su rendimiento. Esta actividad refuerza el conocimiento de algoritmos, fundamentales para la optimización del software en aplicaciones de robótica. Además, se busca que los estudiantes practiquen la creación y organización de repositorios en GitHub, con el fin de que sirvan como apoyo en su currículo profesional.\n",
        "###Descripción\n",
        "- Ejecutar pruebas de rendimiento (por ejemplo, utilizando el módulo time o timeit) para comparar la eficiencia de ambos algoritmos con conjuntos de datos de diferentes tamaños."
      ],
      "metadata": {
        "id": "8bgBkvB7E5O7"
      }
    },
    {
      "cell_type": "code",
      "source": [
        "import time\n",
        "import random\n",
        "\n",
        "#implementación del algoritmo de ordenamiento burbuja\n",
        "def dubble_sort(arr):\n",
        "  n=len(arr)\n",
        "  for i in range(n):\n",
        "    for j in range(0,n-i-1):\n",
        "      if arr[j]>arr[j+1]:\n",
        "        arr[j],arr[j+1]=arr[j+1],arr[j]\n",
        "#Implementacion del algoritmo de ordenamiento QuickSort\n",
        "def quicksort(arr):\n",
        "  if len(arr)<=1:\n",
        "    return arr\n",
        "  pivot=arr[len(arr)//2]\n",
        "  left=[x for x in arr if x<pivot]\n",
        "  middle=[x for x in arr if x==pivot]\n",
        "  right=[x for x in arr if x>pivot]\n",
        "  return quicksort(left)+middle+quicksort(right)\n",
        "\n",
        "#Funcion que mide tiempo de ejecución\n",
        "def measure_time(sort_algorithm,data):\n",
        "   start_time=time.time()\n",
        "   sort_algorithm(data)\n",
        "   end_time=time.time()\n",
        "   return end_time-start_time\n",
        "\n",
        "#Pruebas de rendimientos con dif. tamaños\n",
        "tamaños=[100, 500, 1000, 5000, 10000]\n",
        "resultados={}\n",
        "for tamaño in tamaños:\n",
        "  random_lista=[random.randint(1,10000) for _ in range(tamaño)]\n",
        "\n",
        "  #Tiempo con Bubble Sort\n",
        "  bubble_data=random_lista.copy()\n",
        "  bubble_time=measure_time(dubble_sort,bubble_data)\n",
        "  lista_ordenadaS = dubble_sort(bubble_data)\n",
        "\n",
        "  #Tiempo con Qicksort\n",
        "  quick_data=random_lista.copy()\n",
        "  quick_time=measure_time(lambda arr: quicksort(arr),quick_data)\n",
        "  lista_ordenada = quicksort(quick_data)\n",
        "\n",
        "  resultados[tamaño]={\"Bubble Sort\":bubble_time,\"Quick Sort\":quick_time}\n",
        "\n",
        "#Mostrar resultados\n",
        "for tamaño, times in resultados.items():\n",
        "  print(f\"Tamaño de la lista: {tamaño}\")\n",
        "  if tamaño==10000:\n",
        "    print(f\"Lista original (primeros 10 elementos): {random_lista[:10]}\")\n",
        "    print(f\"Lista ordenada BS (10 primeros): {bubble_data[:10]}\")\n",
        "    print(f\"Tiempo Bubble Sort: {times['Bubble Sort']:.6f} segundos\")\n",
        "    print(f\"Lista ordenada QS (10 primeros): {lista_ordenada[:10]}\")\n",
        "    print(f\"Tiempo Quick Sort: {times['Quick Sort']:.6f} segundos\")\n",
        "  else:\n",
        "    print(f\"Tiempo Bubble Sort: {times['Bubble Sort']:.6f} segundos\")\n",
        "    print(f\"Tiempo Quick Sort: {times['Quick Sort']:.6f} segundos\")\n",
        "  print()"
      ],
      "metadata": {
        "colab": {
          "base_uri": "https://localhost:8080/"
        },
        "id": "FWl32W8uFTu7",
        "outputId": "c23eb32d-58d4-4c32-8093-29dfa777c8f8"
      },
      "execution_count": 17,
      "outputs": [
        {
          "output_type": "stream",
          "name": "stdout",
          "text": [
            "Tamaño de la lista: 100\n",
            "Tiempo Bubble Sort: 0.000738 segundos\n",
            "Tiempo Quick Sort: 0.000263 segundos\n",
            "\n",
            "Tamaño de la lista: 500\n",
            "Tiempo Bubble Sort: 0.022608 segundos\n",
            "Tiempo Quick Sort: 0.001416 segundos\n",
            "\n",
            "Tamaño de la lista: 1000\n",
            "Tiempo Bubble Sort: 0.082089 segundos\n",
            "Tiempo Quick Sort: 0.003424 segundos\n",
            "\n",
            "Tamaño de la lista: 5000\n",
            "Tiempo Bubble Sort: 1.593554 segundos\n",
            "Tiempo Quick Sort: 0.009624 segundos\n",
            "\n",
            "Tamaño de la lista: 10000\n",
            "Lista original (primeros 10 elementos): [278, 1969, 9367, 7652, 1688, 1659, 6096, 3620, 8840, 7245]\n",
            "Lista ordenada BS (10 primeros): [1, 2, 2, 2, 5, 5, 9, 10, 11, 13]\n",
            "Tiempo Bubble Sort: 5.154789 segundos\n",
            "Lista ordenada QS (10 primeros): [1, 2, 2, 2, 5, 5, 9, 10, 11, 13]\n",
            "Tiempo Quick Sort: 0.018488 segundos\n",
            "\n"
          ]
        }
      ]
    },
    {
      "cell_type": "code",
      "source": [],
      "metadata": {
        "id": "x2w16Sr0IvTH"
      },
      "execution_count": null,
      "outputs": []
    }
  ]
}